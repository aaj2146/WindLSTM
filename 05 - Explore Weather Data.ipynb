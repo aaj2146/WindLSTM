{
 "cells": [
  {
   "cell_type": "markdown",
   "metadata": {},
   "source": [
    "## Explore Weather Data: From Stations Around the Wind Farms\n",
    "### *This notebook performs exploratory data analysis on downloaded weather data*"
   ]
  },
  {
   "cell_type": "code",
   "execution_count": 1,
   "metadata": {},
   "outputs": [],
   "source": [
    "import os\n",
    "import glob\n",
    "import pandas as pd"
   ]
  },
  {
   "cell_type": "code",
   "execution_count": 2,
   "metadata": {},
   "outputs": [],
   "source": [
    "project_name = \"Thunder Ranch\"\n",
    "feature_name = \"AWND\""
   ]
  },
  {
   "cell_type": "code",
   "execution_count": 14,
   "metadata": {},
   "outputs": [],
   "source": [
    "def get_projects(basepath_flag = True):\n",
    "    base_path = './data/weather/projects/*'\n",
    "    projects =  glob.glob(base_path)\n",
    "    if basepath_flag:\n",
    "        return([os.path.basename(s) for s in projects])\n",
    "    else:\n",
    "        return(projects)"
   ]
  },
  {
   "cell_type": "code",
   "execution_count": 12,
   "metadata": {},
   "outputs": [],
   "source": [
    "def get_project_stations(project_name):\n",
    "    project_name = project_name.replace(\"/\",\"&\")\n",
    "    base_path = './data/weather/projects/'\n",
    "    search_path = base_path + project_name + '/*'\n",
    "    project_station_dir =  glob.glob(search_path)\n",
    "    return([os.path.basename(s) for s in project_station_dir])"
   ]
  },
  {
   "cell_type": "code",
   "execution_count": 5,
   "metadata": {},
   "outputs": [],
   "source": [
    "def get_features_project_stations(project_name, stationid, basepath_flag = True):\n",
    "    project_name = project_name.replace(\"/\",\"&\")\n",
    "    stationid = stationid.replace(\":\", \"_\")\n",
    "    base_path = './data/weather/projects/'\n",
    "    station_weather_features = glob.glob(base_path + project_name + '/' + stationid + '/*.csv')\n",
    "    if basepath_flag:\n",
    "        return([os.path.basename(s).replace('.csv', '') for s in station_weather_features])\n",
    "    else:\n",
    "        return(station_weather_features)"
   ]
  },
  {
   "cell_type": "code",
   "execution_count": 9,
   "metadata": {},
   "outputs": [],
   "source": [
    "def get_data_features_project_stations(project_name, stationid, feature):\n",
    "    project_name = project_name.replace(\"/\",\"&\")\n",
    "    stationid = stationid.replace(\":\", \"_\")\n",
    "    base_path = './data/weather/projects/'\n",
    "    feature_path = base_path + project_name + '/' + stationid + '/' + feature + '.csv'\n",
    "    return(pd.read_csv(feature_path))"
   ]
  },
  {
   "cell_type": "code",
   "execution_count": 24,
   "metadata": {},
   "outputs": [],
   "source": [
    "all_data = pd.DataFrame()\n",
    "collected_projects = get_projects(basepath_flag=True)\n",
    "for p in collected_projects:\n",
    "    project_stations = get_project_stations(p)\n",
    "    for s in project_stations:\n",
    "        station_features = get_features_project_stations(p, s)\n",
    "        for f in station_features:\n",
    "            data = get_data_features_project_stations(p, s, f)\n",
    "            data['p_name'] = p\n",
    "            all_data = all_data.append(data)"
   ]
  },
  {
   "cell_type": "code",
   "execution_count": 25,
   "metadata": {},
   "outputs": [
    {
     "data": {
      "text/plain": [
       "(35652, 6)"
      ]
     },
     "execution_count": 25,
     "metadata": {},
     "output_type": "execute_result"
    }
   ],
   "source": [
    "all_data.shape"
   ]
  },
  {
   "cell_type": "code",
   "execution_count": 26,
   "metadata": {},
   "outputs": [
    {
     "data": {
      "text/html": [
       "<div>\n",
       "<style scoped>\n",
       "    .dataframe tbody tr th:only-of-type {\n",
       "        vertical-align: middle;\n",
       "    }\n",
       "\n",
       "    .dataframe tbody tr th {\n",
       "        vertical-align: top;\n",
       "    }\n",
       "\n",
       "    .dataframe thead th {\n",
       "        text-align: right;\n",
       "    }\n",
       "</style>\n",
       "<table border=\"1\" class=\"dataframe\">\n",
       "  <thead>\n",
       "    <tr style=\"text-align: right;\">\n",
       "      <th></th>\n",
       "      <th>attributes</th>\n",
       "      <th>datatype</th>\n",
       "      <th>date</th>\n",
       "      <th>station</th>\n",
       "      <th>value</th>\n",
       "      <th>p_name</th>\n",
       "    </tr>\n",
       "  </thead>\n",
       "  <tbody>\n",
       "    <tr>\n",
       "      <th>0</th>\n",
       "      <td>,,W,</td>\n",
       "      <td>WSF5</td>\n",
       "      <td>2017-01-01T00:00:00</td>\n",
       "      <td>GHCND:USW00023047</td>\n",
       "      <td>42.9</td>\n",
       "      <td>Panhandle Wind 1</td>\n",
       "    </tr>\n",
       "    <tr>\n",
       "      <th>1</th>\n",
       "      <td>,,W,</td>\n",
       "      <td>WSF5</td>\n",
       "      <td>2017-01-02T00:00:00</td>\n",
       "      <td>GHCND:USW00023047</td>\n",
       "      <td>32.0</td>\n",
       "      <td>Panhandle Wind 1</td>\n",
       "    </tr>\n",
       "    <tr>\n",
       "      <th>2</th>\n",
       "      <td>,,W,</td>\n",
       "      <td>WSF5</td>\n",
       "      <td>2017-01-03T00:00:00</td>\n",
       "      <td>GHCND:USW00023047</td>\n",
       "      <td>30.0</td>\n",
       "      <td>Panhandle Wind 1</td>\n",
       "    </tr>\n",
       "    <tr>\n",
       "      <th>3</th>\n",
       "      <td>,,W,</td>\n",
       "      <td>WSF5</td>\n",
       "      <td>2017-01-04T00:00:00</td>\n",
       "      <td>GHCND:USW00023047</td>\n",
       "      <td>36.0</td>\n",
       "      <td>Panhandle Wind 1</td>\n",
       "    </tr>\n",
       "    <tr>\n",
       "      <th>4</th>\n",
       "      <td>,,W,</td>\n",
       "      <td>WSF5</td>\n",
       "      <td>2017-01-05T00:00:00</td>\n",
       "      <td>GHCND:USW00023047</td>\n",
       "      <td>30.0</td>\n",
       "      <td>Panhandle Wind 1</td>\n",
       "    </tr>\n",
       "  </tbody>\n",
       "</table>\n",
       "</div>"
      ],
      "text/plain": [
       "  attributes datatype                 date            station  value  \\\n",
       "0       ,,W,     WSF5  2017-01-01T00:00:00  GHCND:USW00023047   42.9   \n",
       "1       ,,W,     WSF5  2017-01-02T00:00:00  GHCND:USW00023047   32.0   \n",
       "2       ,,W,     WSF5  2017-01-03T00:00:00  GHCND:USW00023047   30.0   \n",
       "3       ,,W,     WSF5  2017-01-04T00:00:00  GHCND:USW00023047   36.0   \n",
       "4       ,,W,     WSF5  2017-01-05T00:00:00  GHCND:USW00023047   30.0   \n",
       "\n",
       "             p_name  \n",
       "0  Panhandle Wind 1  \n",
       "1  Panhandle Wind 1  \n",
       "2  Panhandle Wind 1  \n",
       "3  Panhandle Wind 1  \n",
       "4  Panhandle Wind 1  "
      ]
     },
     "execution_count": 26,
     "metadata": {},
     "output_type": "execute_result"
    }
   ],
   "source": [
    "all_data.head()"
   ]
  },
  {
   "cell_type": "markdown",
   "metadata": {},
   "source": [
    "#### Plot weather data"
   ]
  },
  {
   "cell_type": "code",
   "execution_count": 63,
   "metadata": {},
   "outputs": [],
   "source": [
    "stationids = get_project_stations(project_name)\n",
    "s = stationids[1]\n",
    "wind_features = get_features_project_stations(project_name, stationid)\n",
    "f = wind_features[-1]"
   ]
  },
  {
   "cell_type": "code",
   "execution_count": 86,
   "metadata": {},
   "outputs": [],
   "source": [
    "def plot_weather_feature_time_series(project_name, station, feature):\n",
    "    df = get_data_features_project_stations(project_name, station, feature)\n",
    "    df.index = pd.to_datetime(df['date'])\n",
    "    plt.figure()\n",
    "    df['value'].plot()"
   ]
  },
  {
   "cell_type": "code",
   "execution_count": 87,
   "metadata": {},
   "outputs": [
    {
     "data": {
      "image/png": "[encoded data removed]",
      "text/plain": [
       "<Figure size 432x288 with 1 Axes>"
      ]
     },
     "metadata": {},
     "output_type": "display_data"
    }
   ],
   "source": [
    "plot_weather_feature_time_series(project_name, s, f)"
   ]
  },
  {
   "cell_type": "code",
   "execution_count": null,
   "metadata": {},
   "outputs": [],
   "source": []
  }
 ],
 "metadata": {
  "kernelspec": {
   "display_name": "Python 3",
   "language": "python",
   "name": "python3"
  },
  "language_info": {
   "codemirror_mode": {
    "name": "ipython",
    "version": 3
   },
   "file_extension": ".py",
   "mimetype": "text/x-python",
   "name": "python",
   "nbconvert_exporter": "python",
   "pygments_lexer": "ipython3",
   "version": "3.6.5"
  }
 },
 "nbformat": 4,
 "nbformat_minor": 2
}
